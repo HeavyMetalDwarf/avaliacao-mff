{
  "nbformat": 4,
  "nbformat_minor": 0,
  "metadata": {
    "colab": {
      "provenance": [],
      "include_colab_link": true
    },
    "kernelspec": {
      "name": "python3",
      "display_name": "Python 3"
    },
    "language_info": {
      "name": "python"
    }
  },
  "cells": [
    {
      "cell_type": "markdown",
      "metadata": {
        "id": "view-in-github",
        "colab_type": "text"
      },
      "source": [
        "<a href=\"https://colab.research.google.com/github/HeavyMetalDwarf/avaliacao-mff/blob/main/C%C3%B3pia_de_Avalia%C3%A7%C3%A3o_Individual_RA1_A.ipynb\" target=\"_parent\"><img src=\"https://colab.research.google.com/assets/colab-badge.svg\" alt=\"Open In Colab\"/></a>"
      ]
    },
    {
      "cell_type": "markdown",
      "source": [
        "# Instruções:\n",
        "Para a realização desta tarefa você precisa fazer uma cópia deste carderno de questões para a sua conta. Você responderá a questão colando no AVA o link para a sua cópia contendo as suas respostas. \n",
        "\n",
        "Se encontrar qualquer problema de compartilhamento, salve o seu carderno, contendo as suas soluções, no Github (Arquivo, Salvar no Github) e poste o link do github no canvas.\n",
        "\n",
        "Todas as questões precisam ser resolvidas algébrica e computacionalmente. Usando todos os recursos computacionais disponíveis na internet. Mas, **você não pode consultar outros seres humanos.** \n",
        "\n",
        "**Não se equeça de preencher seu nome nesta célula:**\n",
        "# Nome: Lucas Henrique Rudiniki Costanski"
      ],
      "metadata": {
        "id": "C0wsfxvc_qF7"
      }
    },
    {
      "cell_type": "markdown",
      "source": [
        "# Questão 1: \n",
        "A população de uma cidade está crescendo exponencialmente. No ano de 2020, a população era de 50.000 habitantes, e a taxa de crescimento anual é de 3%. Qual será a população em 2030? Use a fórmula:\n",
        "\n",
        "$$\n",
        "P(t) = P_0 \\cdot (1 + r)^t\n",
        "$$\n",
        "\n",
        "onde $P_0$ é a população inicial, $r$ é a taxa de crescimento e $t$ é o tempo em anos. Não se esqueça de traçar um gráfico mostrando o crescimento populacional entre os anos de 2020 e 2040, ano a ano.\n"
      ],
      "metadata": {
        "id": "xPjntyHxAclq"
      }
    },
    {
      "cell_type": "code",
      "source": [
        "P0 = 50000\n",
        "r = 0.03\n",
        "t = 10\n",
        "\n",
        "P_t = P0 * (1 + r)**t\n",
        "print(\"A população em 2030 será de: \", round(P_t), \"habitantes.\")"
      ],
      "metadata": {
        "colab": {
          "base_uri": "https://localhost:8080/"
        },
        "id": "S48JQWK-J9hp",
        "outputId": "5134c342-7913-426a-9133-3450f6c2d131"
      },
      "execution_count": 1,
      "outputs": [
        {
          "output_type": "stream",
          "name": "stdout",
          "text": [
            "A população em 2030 será de:  67196 habitantes.\n"
          ]
        }
      ]
    },
    {
      "cell_type": "code",
      "execution_count": 2,
      "metadata": {
        "id": "H-E4jwoh_kg4",
        "colab": {
          "base_uri": "https://localhost:8080/",
          "height": 312
        },
        "outputId": "a62af533-3e31-419f-fb87-76529078389d"
      },
      "outputs": [
        {
          "output_type": "execute_result",
          "data": {
            "text/plain": [
              "<function matplotlib.pyplot.show(close=None, block=None)>"
            ]
          },
          "metadata": {},
          "execution_count": 2
        },
        {
          "output_type": "display_data",
          "data": {
            "text/plain": [
              "<Figure size 432x288 with 1 Axes>"
            ],
            "image/png": "[encoded data removed]"
          },
          "metadata": {
            "needs_background": "light"
          }
        }
      ],
      "source": [
        "import matplotlib.pyplot as plt\n",
        "\n",
        "P0 = 50000\n",
        "r = 0.03\n",
        "\n",
        "populations = []\n",
        "years = range(2020, 2041)\n",
        "for t in range(len(years)):\n",
        "  P_t = P0 * (1 + r)**t\n",
        "  populations.append(P_t)\n",
        "\n",
        "plt.plot(years, populations)\n",
        "plt.title(\"CRescimento Populacional\")\n",
        "plt.xlabel(\"Ano\")\n",
        "plt.ylabel(\"População\")\n",
        "plt.show"
      ]
    },
    {
      "cell_type": "markdown",
      "source": [
        "# Questão 2\n",
        "Usando, a seu critério as bibliotecas do Python, crie um gráfico para cada uma das funções a seguir. No label do gráfico deverá estar a função impressa com qualidade matemática (latex) e uma label dizendo se a função é crescente ou decrescente. \n",
        "\n",
        "1. $2^x + 3^x = 25$\n",
        "\n",
        "2. $\\log_2(x) - \\log_2(3) = 1$"
      ],
      "metadata": {
        "id": "gXHLbWynPNhe"
      }
    },
    {
      "cell_type": "code",
      "source": [
        "import numpy as np\n",
        "import matplotlib.pyplot as plt\n",
        "\n",
        "# Função 1: 2*x + 3*x = 25\n",
        "# Transformando em equação: f(x) = 2*x + 3*x - 25\n",
        "\n",
        "def f(x):\n",
        "    return 2*x + 3*x - 25\n",
        "\n",
        "# Intervalo de x para plotagem do gráfico\n",
        "x = np.linspace(-5, 2, 100)\n",
        "\n",
        "# Plotando o gráfico da função\n",
        "plt.plot(x, f(x))\n",
        "plt.title(r\"$f(x) = 2^x + 3^x - 25$ - Decrescente\")\n",
        "plt.xlabel(\"x\")\n",
        "plt.ylabel(\"f(x)\")\n",
        "plt.grid(True)\n",
        "plt.show()\n",
        "\n"
      ],
      "metadata": {
        "id": "6vd7lcjeQS8h"
      },
      "execution_count": null,
      "outputs": []
    },
    {
      "cell_type": "code",
      "source": [
        "import numpy as np\n",
        "import matplotlib.pyplot as plt\n",
        "\n",
        "# Função 2: log2(x) - log2(3) = 1\n",
        "# Transformando em equação: g(x) = log2(x) - log2(3) - 1\n",
        "\n",
        "def g(x):\n",
        "    return np.log2(x) - np.log2(3) - 1\n",
        "\n",
        "# Intervalo de x para plotagem do gráfico\n",
        "x = np.linspace(0, 10, 100)\n",
        "\n",
        "# Plotando o gráfico da função\n",
        "plt.plot(x, g(x))\n",
        "plt.title(r\"$g(x) = \\log_2(x) - \\log_2(3) - 1$ - Crescente\")\n",
        "plt.xlabel(\"x\")\n",
        "plt.ylabel(\"g(x)\")\n",
        "plt.grid(True)\n",
        "plt.show()"
      ],
      "metadata": {
        "id": "7-ttYq4GOwlE"
      },
      "execution_count": null,
      "outputs": []
    },
    {
      "cell_type": "markdown",
      "source": [
        "# Questão 3\n",
        "Usando o Sympy, ou qualquer outro recurso disponível na internet, escreva, com qualidade matemática o passo-a-passo algébrico que leva a determinação dos seguintes limites. Ao final, para cada uma das equações você deverá traçar um gráfico da função. \n",
        "\n",
        "1. $\\lim_{x \\to 2} \\frac{x^3 - 8}{x - 2}$\n",
        "\n",
        "2. $\\lim_{x \\to \\infty} \\frac{3x^2 + 2x - 1}{x^2 - 4x + 7}$\n",
        "\n"
      ],
      "metadata": {
        "id": "0Vv2m0IuQTYs"
      }
    },
    {
      "cell_type": "code",
      "source": [
        "import matplotlib.pyplot as plt\n",
        "import numpy as np\n",
        "from sympy import *\n",
        "\n",
        "x = symbols('x')\n",
        "f = (x**3 - 8) / (x - 2)\n",
        "fx = lambdify(x, f)\n",
        "\n",
        "plt.plot([-5,5],[fx(-5),fx(5)],'--',label='Assíntota vertical em x=2')\n",
        "plt.plot(np.arange(-5,2,0.1), fx(np.arange(-5,2,0.1)), label=r'$\\frac{x^3 - 8}{x - 2}$')\n",
        "plt.plot(np.arange(2,5,0.1), fx(np.arange(2,5,0.1)), label=r'$\\frac{x^3 - 8}{x - 2}$')\n",
        "plt.xlabel('x')\n",
        "plt.ylabel('f(x)')\n",
        "plt.legend()\n",
        "plt.show()"
      ],
      "metadata": {
        "colab": {
          "base_uri": "https://localhost:8080/",
          "height": 314
        },
        "id": "IDJ0B1dkRV0H",
        "outputId": "740d6190-1e90-469b-dd95-c9e1378a9f59"
      },
      "execution_count": 3,
      "outputs": [
        {
          "output_type": "stream",
          "name": "stderr",
          "text": [
            "<lambdifygenerated-1>:2: RuntimeWarning: invalid value encountered in true_divide\n",
            "  return (x**3 - 8)/(x - 2)\n"
          ]
        },
        {
          "output_type": "display_data",
          "data": {
            "text/plain": [
              "<Figure size 432x288 with 1 Axes>"
            ],
            "image/png": "[encoded data removed]"
          },
          "metadata": {
            "needs_background": "light"
          }
        }
      ]
    },
    {
      "cell_type": "code",
      "source": [
        "import matplotlib.pyplot as plt\n",
        "import sympy as sp\n",
        "\n",
        "# definindo a variável simbólica x\n",
        "x = sp.symbols('x')\n",
        "\n",
        "# definindo a função\n",
        "f = (3*x*2 + 2*x + 1) / (x*2 - 4*x + 7)\n",
        "\n",
        "# calculando o limite da função\n",
        "limite = sp.limit(f, x, sp.oo)\n",
        "\n",
        "print(\"O limite da função é:\", limite)\n",
        "\n",
        "# criando uma lista de valores para x\n",
        "x_vals = [i for i in range(-100, 101)]\n",
        "\n",
        "# criando uma lista de valores para f(x)\n",
        "f_vals = [f.subs(x, i) for i in x_vals]\n",
        "\n",
        "# plotando o gráfico da função\n",
        "plt.plot(x_vals, f_vals)\n",
        "plt.xlim(-100, 100)\n",
        "plt.ylim(-10, 10)\n",
        "plt.xlabel('x')\n",
        "plt.ylabel('f(x)')\n",
        "plt.title('Gráfico de f(x)')\n",
        "plt.show()"
      ],
      "metadata": {
        "id": "Rv12RE7TS21q"
      },
      "execution_count": null,
      "outputs": []
    },
    {
      "cell_type": "markdown",
      "source": [],
      "metadata": {
        "id": "BE9sdrwaZVbc"
      }
    }
  ]
}